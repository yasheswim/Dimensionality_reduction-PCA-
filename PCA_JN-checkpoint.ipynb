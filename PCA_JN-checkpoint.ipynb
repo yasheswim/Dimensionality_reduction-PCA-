{
 "cells": [
  {
   "cell_type": "code",
   "execution_count": 1,
   "metadata": {},
   "outputs": [],
   "source": [
    "import pandas as pd\n",
    "import numpy as np\n",
    "import matplotlib.pyplot as plt\n",
    "from sklearn.decomposition import PCA"
   ]
  },
  {
   "cell_type": "code",
   "execution_count": 3,
   "metadata": {},
   "outputs": [],
   "source": [
    "from sklearn.preprocessing import scale\n",
    "winedata=pd.read_csv('Downloads//wine.csv')"
   ]
  },
  {
   "cell_type": "code",
   "execution_count": 4,
   "metadata": {},
   "outputs": [
    {
     "data": {
      "text/plain": [
       "(178, 14)"
      ]
     },
     "execution_count": 4,
     "metadata": {},
     "output_type": "execute_result"
    }
   ],
   "source": [
    "##Standardize winedata using scale function\n",
    "wine_norm=scale(winedata)\n",
    "wine_norm.shape"
   ]
  },
  {
   "cell_type": "code",
   "execution_count": 5,
   "metadata": {},
   "outputs": [],
   "source": [
    "pca=PCA(n_components=14) ##No of features=14\n",
    "pca_values=pca.fit_transform(wine_norm)"
   ]
  },
  {
   "cell_type": "code",
   "execution_count": 6,
   "metadata": {},
   "outputs": [
    {
     "data": {
      "text/plain": [
       "array([0.39542486, 0.17836259, 0.10329102, 0.06627984, 0.06267875,\n",
       "       0.0480556 , 0.03955707, 0.02500244, 0.02103871, 0.01873615,\n",
       "       0.01613203, 0.01205691, 0.00925458, 0.00412945])"
      ]
     },
     "execution_count": 6,
     "metadata": {},
     "output_type": "execute_result"
    }
   ],
   "source": [
    "var1=pca.explained_variance_ratio_\n",
    "var1"
   ]
  },
  {
   "cell_type": "code",
   "execution_count": null,
   "metadata": {},
   "outputs": [],
   "source": [
    "##Percentage of varaiance in each and evry column (column 1 to 14).39% OF data is contained in 1st column"
   ]
  },
  {
   "cell_type": "code",
   "execution_count": 7,
   "metadata": {},
   "outputs": [
    {
     "data": {
      "text/plain": [
       "array([-0.00569041, -0.48416087, -0.22359095, -0.31585588,  0.01161574,\n",
       "       -0.30055143, -0.06711983,  0.00131345, -0.0269887 , -0.04122256,\n",
       "       -0.52978274,  0.27790735,  0.16277625, -0.36605886])"
      ]
     },
     "execution_count": 7,
     "metadata": {},
     "output_type": "execute_result"
    }
   ],
   "source": [
    "pca.components_[1]"
   ]
  },
  {
   "cell_type": "code",
   "execution_count": null,
   "metadata": {},
   "outputs": [],
   "source": [
    "##PCA components of first feature(PCA1)"
   ]
  },
  {
   "cell_type": "code",
   "execution_count": 8,
   "metadata": {},
   "outputs": [
    {
     "data": {
      "text/plain": [
       "array([ 39.54,  57.38,  67.71,  74.34,  80.61,  85.42,  89.38,  91.88,\n",
       "        93.98,  95.85,  97.46,  98.67,  99.6 , 100.01])"
      ]
     },
     "execution_count": 8,
     "metadata": {},
     "output_type": "execute_result"
    }
   ],
   "source": [
    "var22 = np.cumsum(np.round(var1,decimals = 4)*100)\n",
    "var22"
   ]
  },
  {
   "cell_type": "code",
   "execution_count": null,
   "metadata": {},
   "outputs": [],
   "source": [
    "##Cumulative variance of all the features show that 97 percent of data is contained in first 11 features. So, we need not consider\n",
    "##last three features"
   ]
  },
  {
   "cell_type": "code",
   "execution_count": 9,
   "metadata": {},
   "outputs": [
    {
     "data": {
      "text/plain": [
       "[<matplotlib.lines.Line2D at 0x250224a6790>]"
      ]
     },
     "execution_count": 9,
     "metadata": {},
     "output_type": "execute_result"
    },
    {
     "data": {
      "image/png": "[encoded data removed]",
      "text/plain": [
       "<Figure size 432x288 with 1 Axes>"
      ]
     },
     "metadata": {
      "needs_background": "light"
     },
     "output_type": "display_data"
    }
   ],
   "source": [
    "import seaborn as sns\n",
    "plt.plot(var22,color=\"red\")"
   ]
  },
  {
   "cell_type": "code",
   "execution_count": null,
   "metadata": {},
   "outputs": [],
   "source": [
    "##Line plot showing cumulative variance increasing with advancement of every feature"
   ]
  },
  {
   "cell_type": "code",
   "execution_count": 10,
   "metadata": {},
   "outputs": [
    {
     "data": {
      "text/plain": [
       "<matplotlib.collections.PathCollection at 0x25022580bb0>"
      ]
     },
     "execution_count": 10,
     "metadata": {},
     "output_type": "execute_result"
    },
    {
     "data": {
      "image/png": "[encoded data removed]",
      "text/plain": [
       "<Figure size 432x288 with 1 Axes>"
      ]
     },
     "metadata": {
      "needs_background": "light"
     },
     "output_type": "display_data"
    }
   ],
   "source": [
    "##Constructing a biplot\n",
    "x = pca_values[:,0]\n",
    "y = pca_values[:,1]\n",
    "plt.scatter(x,y)"
   ]
  },
  {
   "cell_type": "code",
   "execution_count": 13,
   "metadata": {},
   "outputs": [],
   "source": [
    "##The above scatterplot tells us that there is not high corelation and collinearity between PCA scores of feature 1 and 2."
   ]
  },
  {
   "cell_type": "code",
   "execution_count": 14,
   "metadata": {},
   "outputs": [],
   "source": [
    "##Considering 1st 11 columns from the PCA TABLE:-\n",
    "pca_new=pca_values[:,0:10]"
   ]
  },
  {
   "cell_type": "code",
   "execution_count": 15,
   "metadata": {},
   "outputs": [],
   "source": [
    "##Performing clustering using kmeans on pca scores\n",
    "from\tsklearn.cluster\timport\tKMeans\n",
    "from scipy.spatial.distance import cdist \n",
    "pca_brandnew=pd.DataFrame(pca_new)"
   ]
  },
  {
   "cell_type": "code",
   "execution_count": 16,
   "metadata": {},
   "outputs": [],
   "source": [
    "k=list(range(2,16))\n",
    "TWSS= []"
   ]
  },
  {
   "cell_type": "code",
   "execution_count": 17,
   "metadata": {},
   "outputs": [],
   "source": [
    "for i in k:\n",
    "    kmeans= KMeans(n_clusters=i)\n",
    "    kmeans.fit(pca_brandnew)\n",
    "    WSS= []\n",
    "    for j in range (i):\n",
    "         WSS.append(sum(cdist(pca_brandnew.iloc[kmeans.labels_==j,:],kmeans.cluster_centers_[j].reshape(1,pca_brandnew.shape[1]),\"euclidean\")))\n",
    "    TWSS.append(sum(WSS))"
   ]
  },
  {
   "cell_type": "code",
   "execution_count": 18,
   "metadata": {},
   "outputs": [
    {
     "data": {
      "text/plain": [
       "([<matplotlib.axis.XTick at 0x2502283c9d0>,\n",
       "  <matplotlib.axis.XTick at 0x2502283c9a0>,\n",
       "  <matplotlib.axis.XTick at 0x250228396a0>,\n",
       "  <matplotlib.axis.XTick at 0x25022862700>,\n",
       "  <matplotlib.axis.XTick at 0x25022862c10>,\n",
       "  <matplotlib.axis.XTick at 0x25022862dc0>,\n",
       "  <matplotlib.axis.XTick at 0x25022868310>,\n",
       "  <matplotlib.axis.XTick at 0x25022868820>,\n",
       "  <matplotlib.axis.XTick at 0x25022868d30>,\n",
       "  <matplotlib.axis.XTick at 0x2502286f280>,\n",
       "  <matplotlib.axis.XTick at 0x2502286f790>,\n",
       "  <matplotlib.axis.XTick at 0x2502286fca0>,\n",
       "  <matplotlib.axis.XTick at 0x25022875190>,\n",
       "  <matplotlib.axis.XTick at 0x2502286f8b0>],\n",
       " [Text(0, 0, ''),\n",
       "  Text(0, 0, ''),\n",
       "  Text(0, 0, ''),\n",
       "  Text(0, 0, ''),\n",
       "  Text(0, 0, ''),\n",
       "  Text(0, 0, ''),\n",
       "  Text(0, 0, ''),\n",
       "  Text(0, 0, ''),\n",
       "  Text(0, 0, ''),\n",
       "  Text(0, 0, ''),\n",
       "  Text(0, 0, ''),\n",
       "  Text(0, 0, ''),\n",
       "  Text(0, 0, ''),\n",
       "  Text(0, 0, '')])"
      ]
     },
     "execution_count": 18,
     "metadata": {},
     "output_type": "execute_result"
    },
    {
     "data": {
      "image/png": "[encoded data removed]",
      "text/plain": [
       "<Figure size 432x288 with 1 Axes>"
      ]
     },
     "metadata": {
      "needs_background": "light"
     },
     "output_type": "display_data"
    }
   ],
   "source": [
    "##Scree plot\n",
    "plt.plot(k,TWSS,'ro-');plt.xlabel(\"No_of_Clusters\");plt.ylabel(\"total_within_SS\");plt.xticks(k)"
   ]
  },
  {
   "cell_type": "code",
   "execution_count": 19,
   "metadata": {},
   "outputs": [],
   "source": [
    "###optimal k value=6\n",
    "model=KMeans(n_clusters=6)\n",
    "model.fit(pca_brandnew)\n",
    "model.labels_\n",
    "kclust_pca=pd.Series(model.labels_)\n"
   ]
  },
  {
   "cell_type": "code",
   "execution_count": 20,
   "metadata": {},
   "outputs": [],
   "source": [
    "##Performing k-means clustering on wine data\n",
    "\n",
    "wine_new=pd.DataFrame(wine_norm)"
   ]
  },
  {
   "cell_type": "code",
   "execution_count": 21,
   "metadata": {},
   "outputs": [],
   "source": [
    "kk=list(range(2,16))\n",
    "TWSS1= []\n",
    "for n in kk:\n",
    "    kmeans1= KMeans(n_clusters=n)\n",
    "    kmeans1.fit(wine_new)\n",
    "    WSS1= []\n",
    "    for m in range (n):\n",
    "         WSS1.append(sum(cdist(wine_new.iloc[kmeans1.labels_==m,:],kmeans1.cluster_centers_[m].reshape(1,wine_new.shape[1]),\"euclidean\")))\n",
    "    TWSS1.append(sum(WSS1))"
   ]
  },
  {
   "cell_type": "code",
   "execution_count": 22,
   "metadata": {},
   "outputs": [
    {
     "data": {
      "text/plain": [
       "([<matplotlib.axis.XTick at 0x250228ae670>,\n",
       "  <matplotlib.axis.XTick at 0x250228ae640>,\n",
       "  <matplotlib.axis.XTick at 0x250228ab1c0>,\n",
       "  <matplotlib.axis.XTick at 0x250228d4190>,\n",
       "  <matplotlib.axis.XTick at 0x250228d46a0>,\n",
       "  <matplotlib.axis.XTick at 0x250228d4bb0>,\n",
       "  <matplotlib.axis.XTick at 0x250228da100>,\n",
       "  <matplotlib.axis.XTick at 0x250228da610>,\n",
       "  <matplotlib.axis.XTick at 0x250228dab20>,\n",
       "  <matplotlib.axis.XTick at 0x250228d48e0>,\n",
       "  <matplotlib.axis.XTick at 0x250228daeb0>,\n",
       "  <matplotlib.axis.XTick at 0x250228e10a0>,\n",
       "  <matplotlib.axis.XTick at 0x250228e15b0>,\n",
       "  <matplotlib.axis.XTick at 0x250228e1ac0>],\n",
       " [Text(0, 0, ''),\n",
       "  Text(0, 0, ''),\n",
       "  Text(0, 0, ''),\n",
       "  Text(0, 0, ''),\n",
       "  Text(0, 0, ''),\n",
       "  Text(0, 0, ''),\n",
       "  Text(0, 0, ''),\n",
       "  Text(0, 0, ''),\n",
       "  Text(0, 0, ''),\n",
       "  Text(0, 0, ''),\n",
       "  Text(0, 0, ''),\n",
       "  Text(0, 0, ''),\n",
       "  Text(0, 0, ''),\n",
       "  Text(0, 0, '')])"
      ]
     },
     "execution_count": 22,
     "metadata": {},
     "output_type": "execute_result"
    },
    {
     "data": {
      "image/png": "[encoded data removed]",
      "text/plain": [
       "<Figure size 432x288 with 1 Axes>"
      ]
     },
     "metadata": {
      "needs_background": "light"
     },
     "output_type": "display_data"
    }
   ],
   "source": [
    "plt.plot(kk,TWSS,'ro-');plt.xlabel(\"No_of_Clusters\");plt.ylabel(\"total_within_SS\");plt.xticks(k)"
   ]
  },
  {
   "cell_type": "code",
   "execution_count": 23,
   "metadata": {},
   "outputs": [],
   "source": [
    "###optimal k value=6\n",
    "model22=KMeans(n_clusters=6)\n",
    "model22.fit(wine_new)\n",
    "kclust_wine=pd.Series(model22.labels_)"
   ]
  },
  {
   "cell_type": "code",
   "execution_count": null,
   "metadata": {},
   "outputs": [],
   "source": [
    "##Thus, after performing k-means clustering on pca scores and wine data we same\n",
    "##same optimal number of clusters."
   ]
  },
  {
   "cell_type": "code",
   "execution_count": 25,
   "metadata": {},
   "outputs": [],
   "source": [
    "##Performing hierarchal clustering on pca scores\n",
    "from scipy.cluster.hierarchy import linkage\n",
    "import scipy.cluster.hierarchy as sch\n",
    "from sklearn.cluster import AgglomerativeClustering\n",
    "pca_hier=linkage(pca_brandnew,method='complete',metric='euclidean')\n",
    "pca1_hier=AgglomerativeClustering(n_clusters=6,linkage='complete',affinity='euclidean').fit(pca_brandnew)\n",
    "pca1_hier.labels_\n",
    "hclust_pca=pd.Series(pca1_hier.labels_)"
   ]
  },
  {
   "cell_type": "code",
   "execution_count": 29,
   "metadata": {},
   "outputs": [],
   "source": [
    "##Performing hierarchal clustering on wine_data\n",
    "from scipy.cluster.hierarchy import linkage\n",
    "import scipy.cluster.hierarchy as sch\n",
    "from sklearn.cluster import AgglomerativeClustering\n",
    "pca_hier1=linkage(wine_new,method='complete',metric='euclidean')\n",
    "pca2_hier=AgglomerativeClustering(n_clusters=6,linkage='complete',affinity='euclidean').fit(wine_new)\n",
    "pca2_hier.labels_\n",
    "hclust_wine=pd.Series(pca2_hier.labels_)"
   ]
  },
  {
   "cell_type": "code",
   "execution_count": 32,
   "metadata": {},
   "outputs": [
    {
     "name": "stdout",
     "output_type": "stream",
     "text": [
      "0\n",
      "1\n",
      "2\n",
      "3\n"
     ]
    }
   ],
   "source": []
  },
  {
   "cell_type": "code",
   "execution_count": 36,
   "metadata": {},
   "outputs": [],
   "source": [
    "##No. of unique clusters for kmeans and hierarchichal for pca wine data and normal data\n",
    "analysis.columns=['kclust_pca','kclust_wine','hclust_pca','hclust_wine']\n",
    "a=analysis.kclust_pca.value_counts()\n",
    "b=analysis.kclust_wine.value_counts()\n",
    "c=analysis.hclust_pca.value_counts()\n",
    "d=analysis.hclust_wine.value_counts()"
   ]
  },
  {
   "cell_type": "code",
   "execution_count": 38,
   "metadata": {},
   "outputs": [],
   "source": [
    "analysis=pd.concat([a,b,c,d],axis=1)"
   ]
  },
  {
   "cell_type": "code",
   "execution_count": 39,
   "metadata": {},
   "outputs": [
    {
     "data": {
      "text/html": [
       "<div>\n",
       "<style scoped>\n",
       "    .dataframe tbody tr th:only-of-type {\n",
       "        vertical-align: middle;\n",
       "    }\n",
       "\n",
       "    .dataframe tbody tr th {\n",
       "        vertical-align: top;\n",
       "    }\n",
       "\n",
       "    .dataframe thead th {\n",
       "        text-align: right;\n",
       "    }\n",
       "</style>\n",
       "<table border=\"1\" class=\"dataframe\">\n",
       "  <thead>\n",
       "    <tr style=\"text-align: right;\">\n",
       "      <th></th>\n",
       "      <th>kclust_pca</th>\n",
       "      <th>kclust_wine</th>\n",
       "      <th>hclust_pca</th>\n",
       "      <th>hclust_wine</th>\n",
       "    </tr>\n",
       "  </thead>\n",
       "  <tbody>\n",
       "    <tr>\n",
       "      <th>0</th>\n",
       "      <td>24</td>\n",
       "      <td>26</td>\n",
       "      <td>35</td>\n",
       "      <td>51</td>\n",
       "    </tr>\n",
       "    <tr>\n",
       "      <th>1</th>\n",
       "      <td>53</td>\n",
       "      <td>55</td>\n",
       "      <td>21</td>\n",
       "      <td>10</td>\n",
       "    </tr>\n",
       "    <tr>\n",
       "      <th>2</th>\n",
       "      <td>49</td>\n",
       "      <td>33</td>\n",
       "      <td>47</td>\n",
       "      <td>9</td>\n",
       "    </tr>\n",
       "    <tr>\n",
       "      <th>3</th>\n",
       "      <td>31</td>\n",
       "      <td>24</td>\n",
       "      <td>58</td>\n",
       "      <td>5</td>\n",
       "    </tr>\n",
       "    <tr>\n",
       "      <th>4</th>\n",
       "      <td>8</td>\n",
       "      <td>16</td>\n",
       "      <td>13</td>\n",
       "      <td>51</td>\n",
       "    </tr>\n",
       "    <tr>\n",
       "      <th>5</th>\n",
       "      <td>13</td>\n",
       "      <td>24</td>\n",
       "      <td>4</td>\n",
       "      <td>52</td>\n",
       "    </tr>\n",
       "  </tbody>\n",
       "</table>\n",
       "</div>"
      ],
      "text/plain": [
       "   kclust_pca  kclust_wine  hclust_pca  hclust_wine\n",
       "0          24           26          35           51\n",
       "1          53           55          21           10\n",
       "2          49           33          47            9\n",
       "3          31           24          58            5\n",
       "4           8           16          13           51\n",
       "5          13           24           4           52"
      ]
     },
     "execution_count": 39,
     "metadata": {},
     "output_type": "execute_result"
    }
   ],
   "source": [
    "analysis"
   ]
  },
  {
   "cell_type": "code",
   "execution_count": null,
   "metadata": {},
   "outputs": [],
   "source": []
  },
  {
   "cell_type": "code",
   "execution_count": null,
   "metadata": {},
   "outputs": [],
   "source": []
  },
  {
   "cell_type": "code",
   "execution_count": null,
   "metadata": {},
   "outputs": [],
   "source": []
  }
 ],
 "metadata": {
  "kernelspec": {
   "display_name": "Python 3",
   "language": "python",
   "name": "python3"
  },
  "language_info": {
   "codemirror_mode": {
    "name": "ipython",
    "version": 3
   },
   "file_extension": ".py",
   "mimetype": "text/x-python",
   "name": "python",
   "nbconvert_exporter": "python",
   "pygments_lexer": "ipython3",
   "version": "3.8.3"
  }
 },
 "nbformat": 4,
 "nbformat_minor": 4
}
